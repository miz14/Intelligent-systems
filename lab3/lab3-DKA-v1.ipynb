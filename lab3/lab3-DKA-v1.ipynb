{
 "cells": [
  {
   "cell_type": "code",
   "execution_count": 3,
   "metadata": {},
   "outputs": [],
   "source": [
    "import random\n",
    "import numpy as np\n",
    "import enum\n",
    "import time\n",
    "from termcolor import colored"
   ]
  },
  {
   "cell_type": "code",
   "execution_count": 58,
   "metadata": {},
   "outputs": [],
   "source": [
    "class LiftActions(enum.Enum):\n",
    "    SKIP = 0\n",
    "    UP1 = 1\n",
    "    UP2 = 2\n",
    "    DOWN1 = 3\n",
    "    DOWN2 = 4\n",
    "    OPEN1 = 5\n",
    "    OPEN2 = 6\n",
    "    CLOSE1 = 7\n",
    "    CLOSE2 = 8\n",
    "\n",
    "    START = 9\n",
    "    FINISH = 10\n",
    "\n",
    "class LiftsPassState(enum.Enum):\n",
    "    NONE = 0\n",
    "    IN1 = 1\n",
    "    IN2 = 2\n",
    "\n",
    "# class Lif"
   ]
  },
  {
   "cell_type": "code",
   "execution_count": 5,
   "metadata": {},
   "outputs": [],
   "source": [
    "# входные символы:\n"
   ]
  },
  {
   "cell_type": "code",
   "execution_count": 75,
   "metadata": {},
   "outputs": [],
   "source": [
    "class TwoLifts:\n",
    "\n",
    "    def __init__(self, floors: int, start_state: tuple, print_movments: bool = False):\n",
    "        self.floors = floors\n",
    "        self.print_movments = print_movments\n",
    "        # Состояние: этаж 1 лифта, этаж второго лифта, (0 - нет пассажиров, 1 - они в 1 лифте, 2 - они во 2 лифте)\n",
    "        self.state = (*start_state, 0)\n",
    "        \n",
    "        self.states_dca = {}\n",
    "\n",
    "        self.move_count = 0\n",
    "        self.all_move_count = 0\n",
    "\n",
    "        self.move_command = [None, None]\n",
    "\n",
    "        self.queue_symb = [None]\n",
    "        self.current_symb = None\n",
    "\n",
    "        self.actions = {\n",
    "            LiftActions.SKIP: None,\n",
    "            LiftActions.UP1: lambda: (self.plus_move_count(), print(f\"Лифты: [{self.state[0]}, {self.state[1]}]->[{self.state[0] + 1}, {self.state[1]}]\") if self.print_movments else None),\n",
    "            LiftActions.DOWN1: lambda: (self.plus_move_count(), print(f\"Лифты: [{self.state[0]}, {self.state[1]}]->[{self.state[0] - 1}, {self.state[1]}]\") if self.print_movments else None),\n",
    "            LiftActions.OPEN1: lambda: (print(\"Лифт 1: открыт\") if self.print_movments else None),\n",
    "            LiftActions.CLOSE1: lambda: (print(\"Лифт 1: закрыт\") if self.print_movments else None),\n",
    "            \n",
    "            LiftActions.UP2: lambda: (self.plus_move_count(), print(f\"Лифты: [{self.state[0]}, {self.state[1]}]->[{self.state[0]}, {self.state[1] + 1}]\") if self.print_movments else None),\n",
    "            LiftActions.DOWN2: lambda: (self.plus_move_count(), print(f\"Лифты: [{self.state[0]}, {self.state[1]}]->[{self.state[0]}, {self.state[1] - 1}]\") if self.print_movments else None),\n",
    "            LiftActions.OPEN2: lambda: (print(\"Лифт 2: открыт\") if self.print_movments else None),\n",
    "            LiftActions.CLOSE2: lambda: (print(\"Лифт 2: закрыт\") if self.print_movments else None),\n",
    "\n",
    "            LiftActions.START: lambda: (self.next_symb()),\n",
    "            LiftActions.FINISH: lambda: (print(colored(f\"Для вызова ({self.move_command}) было затрачено {self.move_count} операций.\", \"light_green\")), self.plus_all_move_count(), self.next_symb())\n",
    "\n",
    "        }\n",
    "    def plus_move_count(self):\n",
    "        self.move_count += 1\n",
    "    def plus_all_move_count(self):\n",
    "        self.all_move_count += self.move_count\n",
    "        self.move_count = 0\n",
    "\n",
    "    def next_symb(self):\n",
    "        self.current_symb = self.queue_symb.pop(0)\n",
    "        self.move_command.pop(0)\n",
    "        self.move_command.append(self.current_symb)\n",
    "        # print(\"append\", self.current_symb)\n",
    "\n",
    "    def run(self, list_commands):\n",
    "        self.queue_symb = [item for sublist in list_commands for item in sublist] + [None]\n",
    "        self.next_symb()\n",
    "        # print(self.state, self.current_symb)\n",
    "        while (self.current_symb):\n",
    "            # time.sleep(0.2)\n",
    "            # print(self.state, self.current_symb)\n",
    "            next_item = self.states_dca[self.state][self.current_symb]\n",
    "            next_item[\"action\"]()\n",
    "            self.state = next_item[\"state\"]\n",
    "        print(colored(f\"Всего операций {self.all_move_count}\", \"light_green\"))\n",
    "\n",
    "            \n",
    "\n",
    "    def generate_dca(self):\n",
    "        for floor1 in range(1, self.floors + 1):\n",
    "            for floor2 in range(1, self.floors + 1):\n",
    "                for pass_state in range(0, 3):\n",
    "                    self.states_dca[floor1, floor2, pass_state] = {}\n",
    "                    for next_floor in range(1, self.floors + 1):\n",
    "                        if abs(floor1 - next_floor) <= abs(floor2 - next_floor) and pass_state != 2:\n",
    "                            if floor1 < next_floor:\n",
    "                                self.states_dca[floor1, floor2, pass_state][next_floor] = {\n",
    "                                    \"state\": (floor1 + 1, floor2, pass_state),\n",
    "                                    \"action\": self.actions[LiftActions.UP1]\n",
    "                                }\n",
    "                            elif floor1 > next_floor:\n",
    "                                self.states_dca[floor1, floor2, pass_state][next_floor] = {\n",
    "                                    \"state\": (floor1 - 1, floor2, pass_state),\n",
    "                                    \"action\": self.actions[LiftActions.DOWN1]\n",
    "                                }\n",
    "                            else:\n",
    "                                self.states_dca[floor1, floor2, pass_state][next_floor] = {\n",
    "                                    \"state\": (floor1, floor2, 0 if pass_state == 1 else 1),\n",
    "                                    \"action\": (lambda: (self.actions[LiftActions.OPEN1](), self.actions[LiftActions.CLOSE1](), self.actions[LiftActions.FINISH]())) if pass_state != 0 \n",
    "                                        else (lambda: (self.actions[LiftActions.OPEN1](), self.actions[LiftActions.CLOSE1](), self.actions[LiftActions.START]())),\n",
    "                                }\n",
    "                        else: \n",
    "                            if floor2 < next_floor:\n",
    "                                self.states_dca[floor1, floor2, pass_state][next_floor] = {\n",
    "                                    \"state\": (floor1, floor2 + 1, pass_state),\n",
    "                                    \"action\": self.actions[LiftActions.UP2]\n",
    "                                }\n",
    "                            elif floor2 > next_floor:\n",
    "                                self.states_dca[floor1, floor2, pass_state][next_floor] = {\n",
    "                                    \"state\": (floor1, floor2 - 1, pass_state),\n",
    "                                    \"action\": self.actions[LiftActions.DOWN2]\n",
    "                                }\n",
    "                            else:\n",
    "                                self.states_dca[floor1, floor2, pass_state][next_floor] = {\n",
    "                                    \"state\": (floor1, floor2, 0 if pass_state == 2 else 2),\n",
    "                                    \"action\": (lambda: (self.actions[LiftActions.OPEN1](), self.actions[LiftActions.CLOSE1](), self.actions[LiftActions.FINISH]())) if pass_state != 0 \n",
    "                                        else (lambda: (self.actions[LiftActions.OPEN1](), self.actions[LiftActions.CLOSE1](), self.actions[LiftActions.START]())),\n",
    "                                }"
   ]
  },
  {
   "cell_type": "code",
   "execution_count": 10,
   "metadata": {},
   "outputs": [
    {
     "name": "stdout",
     "output_type": "stream",
     "text": [
      "7\n",
      "[[5, 5], [5, 4], [2, 6], [7, 7], [3, 3]]\n"
     ]
    }
   ],
   "source": [
    "floors = list(range(1, random.randint(5, 21)))\n",
    "print(floors[-1])\n",
    "actions_count = random.randint(5, 6)\n",
    "actions = [np.random.choice(floors, 2).tolist() for i in range(actions_count)]\n",
    "print(actions)\n"
   ]
  },
  {
   "cell_type": "code",
   "execution_count": 76,
   "metadata": {},
   "outputs": [
    {
     "name": "stdout",
     "output_type": "stream",
     "text": [
      "Лифты: [1, 1]->[2, 1]\n",
      "Лифты: [2, 1]->[3, 1]\n",
      "Лифты: [3, 1]->[4, 1]\n",
      "Лифты: [4, 1]->[5, 1]\n",
      "Лифт 1: открыт\n",
      "Лифт 1: закрыт\n",
      "Лифт 1: открыт\n",
      "Лифт 1: закрыт\n",
      "\u001b[92mДля вызова ([5, 5]) было затрачено 4 операций.\u001b[0m\n",
      "Лифт 1: открыт\n",
      "Лифт 1: закрыт\n",
      "Лифты: [5, 1]->[4, 1]\n",
      "Лифт 1: открыт\n",
      "Лифт 1: закрыт\n",
      "\u001b[92mДля вызова ([5, 4]) было затрачено 1 операций.\u001b[0m\n",
      "Лифты: [4, 1]->[4, 2]\n",
      "Лифт 1: открыт\n",
      "Лифт 1: закрыт\n",
      "Лифты: [4, 2]->[4, 3]\n",
      "Лифты: [4, 3]->[4, 4]\n",
      "Лифты: [4, 4]->[4, 5]\n",
      "Лифты: [4, 5]->[4, 6]\n",
      "Лифт 1: открыт\n",
      "Лифт 1: закрыт\n",
      "\u001b[92mДля вызова ([2, 6]) было затрачено 5 операций.\u001b[0m\n",
      "Лифты: [4, 6]->[4, 7]\n",
      "Лифт 1: открыт\n",
      "Лифт 1: закрыт\n",
      "Лифт 1: открыт\n",
      "Лифт 1: закрыт\n",
      "\u001b[92mДля вызова ([7, 7]) было затрачено 1 операций.\u001b[0m\n",
      "Лифты: [4, 7]->[3, 7]\n",
      "Лифт 1: открыт\n",
      "Лифт 1: закрыт\n",
      "Лифт 1: открыт\n",
      "Лифт 1: закрыт\n",
      "\u001b[92mДля вызова ([3, 3]) было затрачено 1 операций.\u001b[0m\n",
      "\u001b[92mВсего операций 12\u001b[0m\n"
     ]
    }
   ],
   "source": [
    "l = TwoLifts(floors=floors[-1], start_state=(1, 1), print_movments=True)\n",
    "l.generate_dca()\n",
    "l.run(actions)"
   ]
  },
  {
   "cell_type": "code",
   "execution_count": 44,
   "metadata": {},
   "outputs": [
    {
     "name": "stdout",
     "output_type": "stream",
     "text": [
      "1\n"
     ]
    }
   ],
   "source": [
    "b = 1\n",
    "a = (lambda: print(1)) if b == 1 else (lambda: print(2))\n",
    "a()"
   ]
  },
  {
   "cell_type": "code",
   "execution_count": null,
   "metadata": {},
   "outputs": [],
   "source": []
  }
 ],
 "metadata": {
  "kernelspec": {
   "display_name": "venv",
   "language": "python",
   "name": "python3"
  },
  "language_info": {
   "codemirror_mode": {
    "name": "ipython",
    "version": 3
   },
   "file_extension": ".py",
   "mimetype": "text/x-python",
   "name": "python",
   "nbconvert_exporter": "python",
   "pygments_lexer": "ipython3",
   "version": "3.12.5"
  }
 },
 "nbformat": 4,
 "nbformat_minor": 2
}
